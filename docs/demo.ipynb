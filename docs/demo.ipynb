{
 "cells": [
  {
   "cell_type": "markdown",
   "metadata": {
    "id": "Nntsv5Z3_zOG"
   },
   "source": [
    "### VARAG Plaground\n",
    "\n",
    "Explore VARAG with our interactive playground! It lets you seamlessly compare various RAG (Retrieval-Augmented Generation) solutions, from data ingestion to retrieval.\n",
    "\n",
    "[![Open In Colab](https://colab.research.google.com/assets/colab-badge.svg)](https://colab.research.google.com/github/adithya-s-k/VARAG/blob/main/docs/demo.ipynb)\n",
    "\n",
    "This makes it easy to test and experiment with different approaches in real-time."
   ]
  },
  {
   "cell_type": "markdown",
   "metadata": {
    "id": "GHn7E1tT8fC2"
   },
   "source": [
    "Recommended: Run this Notebook with a **T4** GPU\n",
    "\n",
    "\n"
   ]
  },
  {
   "cell_type": "code",
   "execution_count": null,
   "metadata": {
    "id": "sYfh_3lC_zOL",
    "vscode": {
     "languageId": "plaintext"
    }
   },
   "outputs": [],
   "source": [
    "!git clone https://github.com/akashmadisetty/VARAG\n",
    "%cd VARAG\n",
    "%pwd"
   ]
  },
  {
   "cell_type": "code",
   "execution_count": null,
   "metadata": {
    "id": "32lgcWrU_zON",
    "vscode": {
     "languageId": "plaintext"
    }
   },
   "outputs": [],
   "source": [
    "!apt-get update && apt-get install -y && apt-get install -y poppler-utils"
   ]
  },
  {
   "cell_type": "code",
   "execution_count": null,
   "metadata": {
    "id": "rJvfmrG3_zOO",
    "vscode": {
     "languageId": "plaintext"
    }
   },
   "outputs": [],
   "source": [
    "%pip install -e .\n",
    "\n",
    "## We will be using Docling for OCR\n",
    "%pip install docling"
   ]
  },
  {
   "cell_type": "code",
   "execution_count": null,
   "metadata": {
    "id": "Rvj4Z_heJ42N"
   },
   "outputs": [],
   "source": [
    "!pip install --upgrade gradio"
   ]
  },
  {
   "cell_type": "markdown",
   "metadata": {
    "id": "gD2BnKB88Op6"
   },
   "source": [
    "Add your OpenAI API Key"
   ]
  },
  {
   "cell_type": "markdown",
   "metadata": {
    "id": "a5662746"
   },
   "source": [
    "To add your OpenAI API key and Gemini API Key to Colab secrets:\n",
    "\n",
    "1. Click on the \"🔑 Secrets\" tab in the left sidebar of your Colab notebook.\n",
    "2. Click the \"+\" button to add a new secret.\n",
    "3. In the \"Name\" field, enter `OPENAI_API_KEY`.\n",
    "4. In the \"Value\" field, paste your OpenAI API key.\n",
    "5. Make sure the \"Notebook access\" toggle is enabled for this secret.\n",
    "6. Repeat the same process for `GEMINI_API_KEY`.\n",
    "7. Click \"Done\".\n",
    "\n",
    "Now your keys are securely stored and can be accessed in your notebook using `userdata.get('OPENAI_API_KEY')`."
   ]
  },
  {
   "cell_type": "code",
   "execution_count": null,
   "metadata": {
    "id": "0a0a686c"
   },
   "outputs": [],
   "source": [
    "import os\n",
    "from google.colab import userdata\n",
    "\n",
    "# Store your OpenAI API key in Colab secrets under the name 'OPENAI_API_KEY'\n",
    "os.environ['OPENAI_API_KEY'] = userdata.get('OPENAI_API_KEY') #USES OPENAI\n",
    "os.environ['GEMINI_API_KEY'] = userdata.get('GEMINI_API_KEY') #USES LITELLM"
   ]
  },
  {
   "cell_type": "markdown",
   "metadata": {
    "id": "TL-4DQAY_zOO"
   },
   "source": [
    "### Run Gradio"
   ]
  },
  {
   "cell_type": "code",
   "execution_count": null,
   "metadata": {
    "id": "-R2WJv7V_zOP",
    "vscode": {
     "languageId": "plaintext"
    }
   },
   "outputs": [],
   "source": [
    "!python demo_solving_token_issue.py --share"
   ]
  }
 ],
 "metadata": {
  "accelerator": "GPU",
  "colab": {
   "gpuType": "T4",
   "provenance": []
  },
  "kernelspec": {
   "display_name": "Python 3",
   "name": "python3"
  },
  "language_info": {
   "name": "python"
  }
 },
 "nbformat": 4,
 "nbformat_minor": 0
}
